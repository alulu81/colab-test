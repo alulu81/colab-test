{
  "nbformat": 4,
  "nbformat_minor": 0,
  "metadata": {
    "colab": {
      "name": "Colab基本操作.ipynb",
      "provenance": [],
      "collapsed_sections": [],
      "authorship_tag": "ABX9TyOWX7b5pZ3MTuB4tGetExUI",
      "include_colab_link": true
    },
    "kernelspec": {
      "name": "python3",
      "display_name": "Python 3"
    },
    "language_info": {
      "name": "python"
    }
  },
  "cells": [
    {
      "cell_type": "markdown",
      "metadata": {
        "id": "view-in-github",
        "colab_type": "text"
      },
      "source": [
        "<a href=\"https://colab.research.google.com/github/alulu81/colab-test/blob/main/Colab%E5%9F%BA%E6%9C%AC%E6%93%8D%E4%BD%9C.ipynb\" target=\"_parent\"><img src=\"https://colab.research.google.com/assets/colab-badge.svg\" alt=\"Open In Colab\"/></a>"
      ]
    },
    {
      "cell_type": "markdown",
      "source": [
        "# Colab常用快捷鍵一覽\n",
        "\n",
        "## shift + enter\n",
        "> 執行選定或編輯中程式\n",
        "\n",
        "## ctrl/cmd + m -> a\n",
        "> 向上新增一個程式格\n",
        "\n",
        "## ctrl/cmd + m -> b\n",
        "> 向下新增一個程式格\n",
        "\n",
        "##ctrl/cmd + m -> m\n",
        ">將程式格轉變成文字格\n",
        "\n",
        "## ctrl/cmd + m -> y\n",
        ">將文字格轉成程式格\n",
        "\n",
        "## ctrl/cmd + m -> d\n",
        ">刪除儲存格\n",
        "\n",
        "## ctrl/cmd + m -> h\n",
        ">顯示快捷鍵\n",
        "\n"
      ],
      "metadata": {
        "id": "P_fZvgZzRlnw"
      }
    },
    {
      "cell_type": "code",
      "execution_count": 1,
      "metadata": {
        "id": "7lt1y7jptcc2",
        "colab": {
          "base_uri": "https://localhost:8080/"
        },
        "outputId": "85851a97-c849-4c6a-90e9-66d998ea6a90"
      },
      "outputs": [
        {
          "output_type": "stream",
          "name": "stdout",
          "text": [
            "test\n"
          ]
        }
      ],
      "source": [
        "prin"
      ]
    },
    {
      "cell_type": "code",
      "source": [
        ""
      ],
      "metadata": {
        "id": "ZeSVSQsCvQfg"
      },
      "execution_count": 1,
      "outputs": []
    }
  ]
}